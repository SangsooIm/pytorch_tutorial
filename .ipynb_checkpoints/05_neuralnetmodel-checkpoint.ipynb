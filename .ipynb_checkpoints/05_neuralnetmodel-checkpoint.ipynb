{
 "cells": [
  {
   "cell_type": "code",
   "execution_count": 3,
   "metadata": {},
   "outputs": [],
   "source": [
    "import torch\n",
    "import os\n",
    "from torch import nn\n",
    "from torch.utils.data import DataLoader\n",
    "from torchvision import datasets, transforms"
   ]
  },
  {
   "cell_type": "code",
   "execution_count": 4,
   "metadata": {},
   "outputs": [
    {
     "name": "stdout",
     "output_type": "stream",
     "text": [
      "Using cuda device\n"
     ]
    }
   ],
   "source": [
    "device = \"cuda\" if torch.cuda.is_available() else \"cpu\"\n",
    "print(f\"Using {device} device\")"
   ]
  },
  {
   "cell_type": "code",
   "execution_count": 3,
   "metadata": {},
   "outputs": [],
   "source": [
    "class NeuralNetwork(nn.Module):\n",
    "    def __init__(self):\n",
    "        super(NeuralNetwork, self).__init__()\n",
    "        self.flatten = nn.Flatten()\n",
    "        self.linear_relu_stack = nn.Sequential(\n",
    "            nn.Linear(28*28, 512),\n",
    "            nn.ReLU(),\n",
    "            nn.Linear(512, 512),\n",
    "            nn.ReLU(),\n",
    "            nn.Linear(512, 10)\n",
    "        )\n",
    "    def forward(self, x):\n",
    "        x = self.flatten(x)\n",
    "        logits = self.linear_relu_stack(x)\n",
    "        return logits"
   ]
  },
  {
   "cell_type": "code",
   "execution_count": 4,
   "metadata": {},
   "outputs": [
    {
     "name": "stdout",
     "output_type": "stream",
     "text": [
      "NeuralNetwork(\n",
      "  (flatten): Flatten(start_dim=1, end_dim=-1)\n",
      "  (linear_relu_stack): Sequential(\n",
      "    (0): Linear(in_features=784, out_features=512, bias=True)\n",
      "    (1): ReLU()\n",
      "    (2): Linear(in_features=512, out_features=512, bias=True)\n",
      "    (3): ReLU()\n",
      "    (4): Linear(in_features=512, out_features=10, bias=True)\n",
      "  )\n",
      ")\n"
     ]
    }
   ],
   "source": [
    "model = NeuralNetwork().to(device)\n",
    "print(model)"
   ]
  },
  {
   "cell_type": "code",
   "execution_count": 5,
   "metadata": {},
   "outputs": [
    {
     "name": "stdout",
     "output_type": "stream",
     "text": [
      "Predicted class: tensor([0])\n"
     ]
    }
   ],
   "source": [
    "X = torch.rand(1, 28, 28, device = device)\n",
    "logits = model(X)\n",
    "pred_probab = nn.Softmax(dim=1)(logits)\n",
    "y_pred = pred_probab.argmax(1)\n",
    "print(f\"Predicted class: {y_pred}\")"
   ]
  },
  {
   "cell_type": "code",
   "execution_count": 6,
   "metadata": {},
   "outputs": [
    {
     "name": "stdout",
     "output_type": "stream",
     "text": [
      "torch.Size([3, 28, 28])\n"
     ]
    }
   ],
   "source": [
    "input_image = torch.rand(3, 28, 28)\n",
    "print(input_image.size())"
   ]
  },
  {
   "cell_type": "code",
   "execution_count": 7,
   "metadata": {},
   "outputs": [
    {
     "name": "stdout",
     "output_type": "stream",
     "text": [
      "torch.Size([3, 784])\n"
     ]
    }
   ],
   "source": [
    "flatten = nn.Flatten()\n",
    "flat_image = flatten(input_image)\n",
    "print(flat_image.size())"
   ]
  },
  {
   "cell_type": "code",
   "execution_count": 11,
   "metadata": {},
   "outputs": [
    {
     "name": "stdout",
     "output_type": "stream",
     "text": [
      "torch.Size([3, 20])\n"
     ]
    }
   ],
   "source": [
    "layer1 = nn.Linear(in_features = 28*28, out_features = 20)\n",
    "hidden1 = layer1(flat_image)\n",
    "print(hidden1.size())"
   ]
  },
  {
   "cell_type": "code",
   "execution_count": 12,
   "metadata": {},
   "outputs": [
    {
     "name": "stdout",
     "output_type": "stream",
     "text": [
      "Before ReLU: tensor([[-0.3922, -0.2036, -0.0197,  0.6185, -0.2887,  0.0746,  0.2714,  0.0249,\n",
      "          0.1379,  0.0824, -0.0725,  0.2081, -0.0757,  0.1463,  0.1695, -0.0671,\n",
      "          0.2233,  0.1096, -0.2606, -0.6464],\n",
      "        [-0.3306, -0.1274,  0.1199,  0.3487, -0.1367,  0.1573, -0.3119, -0.0471,\n",
      "          0.2194,  0.0377, -0.2779, -0.0749,  0.1062,  0.3829,  0.7009,  0.0199,\n",
      "         -0.0778,  0.0966,  0.2859, -0.6874],\n",
      "        [-0.3910, -0.1394,  0.0595,  0.3078, -0.1570,  0.4358, -0.2717,  0.4537,\n",
      "          0.1910,  0.1622, -0.3567,  0.1833, -0.0414,  0.1657,  0.1091, -0.1252,\n",
      "         -0.0541,  0.1152,  0.1287, -0.5916]], grad_fn=<AddmmBackward0>)\n",
      "\n",
      "\n",
      "After ReLU: tensor([[0.0000, 0.0000, 0.0000, 0.6185, 0.0000, 0.0746, 0.2714, 0.0249, 0.1379,\n",
      "         0.0824, 0.0000, 0.2081, 0.0000, 0.1463, 0.1695, 0.0000, 0.2233, 0.1096,\n",
      "         0.0000, 0.0000],\n",
      "        [0.0000, 0.0000, 0.1199, 0.3487, 0.0000, 0.1573, 0.0000, 0.0000, 0.2194,\n",
      "         0.0377, 0.0000, 0.0000, 0.1062, 0.3829, 0.7009, 0.0199, 0.0000, 0.0966,\n",
      "         0.2859, 0.0000],\n",
      "        [0.0000, 0.0000, 0.0595, 0.3078, 0.0000, 0.4358, 0.0000, 0.4537, 0.1910,\n",
      "         0.1622, 0.0000, 0.1833, 0.0000, 0.1657, 0.1091, 0.0000, 0.0000, 0.1152,\n",
      "         0.1287, 0.0000]], grad_fn=<ReluBackward0>)\n",
      "\n",
      "\n"
     ]
    }
   ],
   "source": [
    "print(f\"Before ReLU: {hidden1}\\n\\n\")\n",
    "hidden1 = nn.ReLU()(hidden1)\n",
    "print(f\"After ReLU: {hidden1}\\n\\n\")"
   ]
  },
  {
   "cell_type": "code",
   "execution_count": 14,
   "metadata": {},
   "outputs": [],
   "source": [
    "seq_modules = nn.Sequential(\n",
    "    flatten,\n",
    "    layer1,\n",
    "    nn.ReLU(),\n",
    "    nn.Linear(20, 10)\n",
    ")\n",
    "input_image = torch.rand(3, 28, 28)\n",
    "logits = seq_modules(input_image)"
   ]
  },
  {
   "cell_type": "code",
   "execution_count": 15,
   "metadata": {},
   "outputs": [
    {
     "data": {
      "text/plain": [
       "tensor([[-0.2369, -0.1762, -0.2150, -0.3454,  0.3191,  0.2452,  0.1347, -0.0539,\n",
       "         -0.0020, -0.1064],\n",
       "        [-0.0892, -0.3534, -0.2594, -0.2553,  0.3221,  0.2663,  0.1686,  0.1083,\n",
       "         -0.1424, -0.0124],\n",
       "        [-0.1064, -0.2769, -0.1848, -0.0616,  0.1779,  0.3158,  0.1828,  0.1200,\n",
       "         -0.0406, -0.0957]], grad_fn=<AddmmBackward0>)"
      ]
     },
     "execution_count": 15,
     "metadata": {},
     "output_type": "execute_result"
    }
   ],
   "source": [
    "logits"
   ]
  },
  {
   "cell_type": "code",
   "execution_count": 16,
   "metadata": {},
   "outputs": [],
   "source": [
    "softmax = nn.Softmax(dim=1)\n",
    "pred_probab = softmax(logits)"
   ]
  },
  {
   "cell_type": "code",
   "execution_count": 21,
   "metadata": {},
   "outputs": [
    {
     "name": "stdout",
     "output_type": "stream",
     "text": [
      "Model structure: NeuralNetwork(\n",
      "  (flatten): Flatten(start_dim=1, end_dim=-1)\n",
      "  (linear_relu_stack): Sequential(\n",
      "    (0): Linear(in_features=784, out_features=512, bias=True)\n",
      "    (1): ReLU()\n",
      "    (2): Linear(in_features=512, out_features=512, bias=True)\n",
      "    (3): ReLU()\n",
      "    (4): Linear(in_features=512, out_features=10, bias=True)\n",
      "  )\n",
      ")\n",
      "\n",
      "\n",
      "Layer: linear_relu_stack.0.weight | Size: torch.Size([512, 784]) |\n",
      " Values : tensor([[ 0.0047, -0.0032,  0.0041,  ..., -0.0217,  0.0128,  0.0305],\n",
      "        [ 0.0031,  0.0228,  0.0335,  ..., -0.0331, -0.0304, -0.0260]],\n",
      "       grad_fn=<SliceBackward0>)\n",
      "\n",
      "Layer: linear_relu_stack.0.bias | Size: torch.Size([512]) |\n",
      " Values : tensor([-0.0222, -0.0192], grad_fn=<SliceBackward0>)\n",
      "\n",
      "Layer: linear_relu_stack.2.weight | Size: torch.Size([512, 512]) |\n",
      " Values : tensor([[-0.0155, -0.0339,  0.0373,  ...,  0.0239,  0.0126, -0.0033],\n",
      "        [-0.0032, -0.0010,  0.0034,  ..., -0.0335,  0.0012,  0.0346]],\n",
      "       grad_fn=<SliceBackward0>)\n",
      "\n",
      "Layer: linear_relu_stack.2.bias | Size: torch.Size([512]) |\n",
      " Values : tensor([-0.0021, -0.0401], grad_fn=<SliceBackward0>)\n",
      "\n",
      "Layer: linear_relu_stack.4.weight | Size: torch.Size([10, 512]) |\n",
      " Values : tensor([[-0.0168,  0.0117, -0.0366,  ..., -0.0327, -0.0361,  0.0191],\n",
      "        [ 0.0337, -0.0311,  0.0101,  ...,  0.0331, -0.0269,  0.0143]],\n",
      "       grad_fn=<SliceBackward0>)\n",
      "\n",
      "Layer: linear_relu_stack.4.bias | Size: torch.Size([10]) |\n",
      " Values : tensor([0.0244, 0.0027], grad_fn=<SliceBackward0>)\n",
      "\n"
     ]
    }
   ],
   "source": [
    "print(f\"Model structure: {model}\\n\\n\")\n",
    "\n",
    "for name, param in model.named_parameters():\n",
    "    print(f\"Layer: {name} | Size: {param.size()} |\\n Values : {param[:2]}\\n\")"
   ]
  },
  {
   "cell_type": "code",
   "execution_count": null,
   "metadata": {},
   "outputs": [],
   "source": []
  }
 ],
 "metadata": {
  "kernelspec": {
   "display_name": "Python 3 (ipykernel)",
   "language": "python",
   "name": "python3"
  },
  "language_info": {
   "codemirror_mode": {
    "name": "ipython",
    "version": 3
   },
   "file_extension": ".py",
   "mimetype": "text/x-python",
   "name": "python",
   "nbconvert_exporter": "python",
   "pygments_lexer": "ipython3",
   "version": "3.10.8"
  },
  "vscode": {
   "interpreter": {
    "hash": "3aa9a3887289b9d0865c1eccf4a5368d51602fc3c96c35e194dff224c1d9ab35"
   }
  }
 },
 "nbformat": 4,
 "nbformat_minor": 2
}
