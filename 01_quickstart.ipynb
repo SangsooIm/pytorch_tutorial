{
 "cells": [
  {
   "cell_type": "code",
   "execution_count": 1,
   "metadata": {},
   "outputs": [],
   "source": [
    "import torch\n",
    "from torch import nn\n",
    "from torch.utils.data import DataLoader\n",
    "from torchvision import datasets\n",
    "from torchvision.transforms import ToTensor\n"
   ]
  },
  {
   "cell_type": "code",
   "execution_count": 2,
   "metadata": {},
   "outputs": [],
   "source": [
    "#공개 데이터 셋에서 학습 데이터를 내려받습니다.\n",
    "training_data = datasets.FashionMNIST(\n",
    "    root = \"data\",\n",
    "    train = True,\n",
    "    download = True,\n",
    "    transform = ToTensor(),\n",
    ")\n",
    "\n",
    "#공개 데이터 셋에서 테스트 데이터를 받습니다. \n",
    "test_data = datasets.FashionMNIST(\n",
    "    root =\"data\",\n",
    "    train = False,\n",
    "    download = True,\n",
    "    transform = ToTensor(),\n",
    ")"
   ]
  },
  {
   "cell_type": "code",
   "execution_count": 3,
   "metadata": {},
   "outputs": [
    {
     "name": "stdout",
     "output_type": "stream",
     "text": [
      "Shape of X [N, C, H, W]: torch.Size([64, 1, 28, 28])\n",
      "Shape of y : torch.Size([64]), torch.int64\n"
     ]
    }
   ],
   "source": [
    "batch_size = 64\n",
    "#데이터로더를 생성합니다.\n",
    "train_dataloader = DataLoader(training_data, batch_size=batch_size)\n",
    "test_dataloader = DataLoader(test_data, batch_size=batch_size)\n",
    "\n",
    "for X, y in test_dataloader:\n",
    "    print(f\"Shape of X [N, C, H, W]: {X.shape}\")\n",
    "    print(f\"Shape of y : {y.shape}, {y.dtype}\")\n",
    "    break"
   ]
  },
  {
   "cell_type": "code",
   "execution_count": 10,
   "metadata": {},
   "outputs": [
    {
     "name": "stdout",
     "output_type": "stream",
     "text": [
      "Using cpu device\n",
      "NeuralNetwork(\n",
      "  (flatten): Flatten(start_dim=1, end_dim=-1)\n",
      "  (linear_relu_stack): Sequential(\n",
      "    (0): Linear(in_features=784, out_features=512, bias=True)\n",
      "    (1): ReLU()\n",
      "    (2): Linear(in_features=512, out_features=512, bias=True)\n",
      "    (3): ReLU()\n",
      "    (4): Linear(in_features=512, out_features=10, bias=True)\n",
      "  )\n",
      ")\n"
     ]
    }
   ],
   "source": [
    "#학습에 사용할 CPU나 GPU 장치를 얻습니다.\n",
    "device = \"cuda\" if torch.cuda.is_available() else \"cpu\"\n",
    "print(f\"Using {device} device\")\n",
    "\n",
    "#모델을 정의합니다.\n",
    "class NeuralNetwork(nn.Module):\n",
    "    def __init__(self):\n",
    "        super(NeuralNetwork, self).__init__()\n",
    "        self.flatten = nn.Flatten()\n",
    "        self.linear_relu_stack = nn.Sequential(\n",
    "            nn.Linear(28*28, 512),\n",
    "            nn.ReLU(),\n",
    "            nn.Linear(512,512),\n",
    "            nn.ReLU(),\n",
    "            nn.Linear(512, 10)\n",
    "        )\n",
    "    def forward(self, x):\n",
    "        x = self.flatten(x)\n",
    "        logits = self.linear_relu_stack(x)\n",
    "        return logits\n",
    "model = NeuralNetwork().to(device)\n",
    "print(model)"
   ]
  },
  {
   "cell_type": "code",
   "execution_count": 11,
   "metadata": {},
   "outputs": [],
   "source": [
    "loss_fn = nn.CrossEntropyLoss()\n",
    "optimizer = torch.optim.SGD(model.parameters(), lr = 1e-3)"
   ]
  },
  {
   "cell_type": "code",
   "execution_count": 12,
   "metadata": {},
   "outputs": [],
   "source": [
    "def train(dataloader, model, loss_fn, optimizer):\n",
    "    size = len(dataloader.dataset)\n",
    "    for batch, (X, y) in enumerate(dataloader):\n",
    "        X, y = X.to(device), y.to(device)\n",
    "\n",
    "        # 예측 오류 계산\n",
    "        pred = model(X)\n",
    "        loss = loss_fn(pred, y)\n",
    "\n",
    "        # 역전파\n",
    "        optimizer.zero_grad()\n",
    "        loss.backward()\n",
    "        optimizer.step()\n",
    "\n",
    "        if batch % 100 == 0:\n",
    "            loss, current = loss.item(), batch*len(X)\n",
    "            print(f\"loss: {loss :>7} [{current :>5d}/{size :>5d}]\")\n"
   ]
  },
  {
   "cell_type": "code",
   "execution_count": 13,
   "metadata": {},
   "outputs": [],
   "source": [
    "def test(dataloader, model, loss_fn):\n",
    "    size = len(dataloader.dataset)\n",
    "    num_batches = len(dataloader)\n",
    "    model.eval()\n",
    "    test_loss, correct = 0, 0\n",
    "    with torch.no_grad():\n",
    "        for X, y in dataloader:\n",
    "            X, y = X.to(device), y.to(device)\n",
    "            pred = model(X)\n",
    "            test_loss += loss_fn(pred, y).item()\n",
    "            correct += (pred.argmax(1) == 1).type(torch.float).sum().item()\n",
    "    test_loss /= num_batches\n",
    "    correct /= size\n",
    "    print(f\"Test Error: \\n Acurracy : {(100*correct):>0.1f}%, Avg loss: {test_loss:>8f}\\n\")"
   ]
  },
  {
   "cell_type": "code",
   "execution_count": 14,
   "metadata": {},
   "outputs": [
    {
     "name": "stdout",
     "output_type": "stream",
     "text": [
      "Epoch 1\n",
      " --------------\n",
      "loss: 2.3013627529144287 [    0/60000]\n",
      "loss: 2.287651300430298 [ 6400/60000]\n",
      "loss: 2.265547752380371 [12800/60000]\n",
      "loss: 2.2629354000091553 [19200/60000]\n",
      "loss: 2.2518482208251953 [25600/60000]\n",
      "loss: 2.219064712524414 [32000/60000]\n",
      "loss: 2.2295873165130615 [38400/60000]\n",
      "loss: 2.191493034362793 [44800/60000]\n",
      "loss: 2.1895408630371094 [51200/60000]\n",
      "loss: 2.1532809734344482 [57600/60000]\n",
      "Test Error: \n",
      " Acurracy : 8.2%, Avg loss: 2.152911\n",
      "\n",
      "Epoch 2\n",
      " --------------\n",
      "loss: 2.1660733222961426 [    0/60000]\n",
      "loss: 2.153653383255005 [ 6400/60000]\n",
      "loss: 2.0937576293945312 [12800/60000]\n",
      "loss: 2.1128170490264893 [19200/60000]\n",
      "loss: 2.0658881664276123 [25600/60000]\n",
      "loss: 2.00071120262146 [32000/60000]\n",
      "loss: 2.031933069229126 [38400/60000]\n",
      "loss: 1.940489649772644 [44800/60000]\n",
      "loss: 1.9564422369003296 [51200/60000]\n",
      "loss: 1.8781332969665527 [57600/60000]\n",
      "Test Error: \n",
      " Acurracy : 12.1%, Avg loss: 1.880773\n",
      "\n",
      "Epoch 3\n",
      " --------------\n",
      "loss: 1.9163113832473755 [    0/60000]\n",
      "loss: 1.884981632232666 [ 6400/60000]\n",
      "loss: 1.7642072439193726 [12800/60000]\n",
      "loss: 1.8121562004089355 [19200/60000]\n",
      "loss: 1.704369068145752 [25600/60000]\n",
      "loss: 1.655763864517212 [32000/60000]\n",
      "loss: 1.6816362142562866 [38400/60000]\n",
      "loss: 1.566100835800171 [44800/60000]\n",
      "loss: 1.611743688583374 [51200/60000]\n",
      "loss: 1.502066969871521 [57600/60000]\n",
      "Test Error: \n",
      " Acurracy : 13.0%, Avg loss: 1.521053\n",
      "\n",
      "Epoch 4\n",
      " --------------\n",
      "loss: 1.5887088775634766 [    0/60000]\n",
      "loss: 1.5516897439956665 [ 6400/60000]\n",
      "loss: 1.4009157419204712 [12800/60000]\n",
      "loss: 1.4797228574752808 [19200/60000]\n",
      "loss: 1.3655223846435547 [25600/60000]\n",
      "loss: 1.3644521236419678 [32000/60000]\n",
      "loss: 1.3784469366073608 [38400/60000]\n",
      "loss: 1.284087896347046 [44800/60000]\n",
      "loss: 1.339235544204712 [51200/60000]\n",
      "loss: 1.2358424663543701 [57600/60000]\n",
      "Test Error: \n",
      " Acurracy : 10.8%, Avg loss: 1.261120\n",
      "\n",
      "Epoch 5\n",
      " --------------\n",
      "loss: 1.336940050125122 [    0/60000]\n",
      "loss: 1.3160322904586792 [ 6400/60000]\n",
      "loss: 1.1500415802001953 [12800/60000]\n",
      "loss: 1.2604819536209106 [19200/60000]\n",
      "loss: 1.1410588026046753 [25600/60000]\n",
      "loss: 1.1711738109588623 [32000/60000]\n",
      "loss: 1.1891103982925415 [38400/60000]\n",
      "loss: 1.1067545413970947 [44800/60000]\n",
      "loss: 1.165125846862793 [51200/60000]\n",
      "loss: 1.0757888555526733 [57600/60000]\n",
      "Test Error: \n",
      " Acurracy : 9.7%, Avg loss: 1.095923\n",
      "\n",
      "Done!\n"
     ]
    }
   ],
   "source": [
    "epochs = 5\n",
    "for t in range(epochs):\n",
    "    print(f\"Epoch {t+1}\\n --------------\")\n",
    "    train(train_dataloader, model, loss_fn, optimizer)\n",
    "    test(test_dataloader, model, loss_fn)\n",
    "print(\"Done!\")"
   ]
  },
  {
   "cell_type": "code",
   "execution_count": 15,
   "metadata": {},
   "outputs": [
    {
     "name": "stdout",
     "output_type": "stream",
     "text": [
      "Saved Pytorch Model state to model.pth\n"
     ]
    }
   ],
   "source": [
    "torch.save(model.state_dict(), \"model.pth\")\n",
    "print(\"Saved Pytorch Model state to model.pth\")"
   ]
  },
  {
   "cell_type": "code",
   "execution_count": 16,
   "metadata": {},
   "outputs": [
    {
     "data": {
      "text/plain": [
       "<All keys matched successfully>"
      ]
     },
     "execution_count": 16,
     "metadata": {},
     "output_type": "execute_result"
    }
   ],
   "source": [
    "model = NeuralNetwork()\n",
    "model.load_state_dict(torch.load(\"model.pth\"))"
   ]
  },
  {
   "cell_type": "code",
   "execution_count": 17,
   "metadata": {},
   "outputs": [
    {
     "name": "stdout",
     "output_type": "stream",
     "text": [
      "pred : tensor([[-2.0462, -2.4950, -0.6949, -1.8216, -0.8251,  2.3635, -0.9225,  2.6615,\n",
      "          1.8456,  3.0700]])\n",
      "Predicted : Ankle boot, Actual : Ankle boot\n"
     ]
    }
   ],
   "source": [
    "classes = [\n",
    "    \"T-shirt/top\",\n",
    "    \"Trouser\",\n",
    "    \"Pullover\",\n",
    "    \"Dress\",\n",
    "    \"Coat\",\n",
    "    \"Sandal\",\n",
    "    \"Shirt\",\n",
    "    \"Sneaker\",\n",
    "    \"Bag\",\n",
    "    \"Ankle boot\",\n",
    "]\n",
    "\n",
    "model.eval()\n",
    "x, y = test_data[0][0], test_data[0][1]\n",
    "with torch.no_grad():\n",
    "    pred=model(x)\n",
    "    print(f\"pred : {pred}\")\n",
    "    predicted, actual = classes[pred[0].argmax(0)], classes[y]\n",
    "    print(f\"Predicted : {predicted}, Actual : {actual}\") "
   ]
  }
 ],
 "metadata": {
  "kernelspec": {
   "display_name": "torch",
   "language": "python",
   "name": "python3"
  },
  "language_info": {
   "codemirror_mode": {
    "name": "ipython",
    "version": 3
   },
   "file_extension": ".py",
   "mimetype": "text/x-python",
   "name": "python",
   "nbconvert_exporter": "python",
   "pygments_lexer": "ipython3",
   "version": "3.10.8 (main, Nov 24 2022, 14:13:03) [GCC 11.2.0]"
  },
  "orig_nbformat": 4,
  "vscode": {
   "interpreter": {
    "hash": "3aa9a3887289b9d0865c1eccf4a5368d51602fc3c96c35e194dff224c1d9ab35"
   }
  }
 },
 "nbformat": 4,
 "nbformat_minor": 2
}
