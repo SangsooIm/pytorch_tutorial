{
 "cells": [
  {
   "cell_type": "code",
   "execution_count": 1,
   "metadata": {},
   "outputs": [],
   "source": [
    "import torch\n",
    "import numpy as np"
   ]
  },
  {
   "cell_type": "code",
   "execution_count": 2,
   "metadata": {},
   "outputs": [],
   "source": [
    "data = [[1, 2], [3, 4]]\n",
    "x_data = torch.tensor(data)"
   ]
  },
  {
   "cell_type": "code",
   "execution_count": 3,
   "metadata": {},
   "outputs": [
    {
     "data": {
      "text/plain": [
       "tensor([[1, 2],\n",
       "        [3, 4]])"
      ]
     },
     "execution_count": 3,
     "metadata": {},
     "output_type": "execute_result"
    }
   ],
   "source": [
    "x_data"
   ]
  },
  {
   "cell_type": "code",
   "execution_count": 6,
   "metadata": {},
   "outputs": [
    {
     "name": "stdout",
     "output_type": "stream",
     "text": [
      "np_array : [[1 2]\n",
      " [3 4]]\n",
      ", x_np : tensor([[1, 2],\n",
      "        [3, 4]])\n"
     ]
    }
   ],
   "source": [
    "np_array = np.array(data)\n",
    "x_np = torch.from_numpy(np_array)\n",
    "print(f\"np_array : {np_array}\\n, x_np : {x_np}\")"
   ]
  },
  {
   "cell_type": "code",
   "execution_count": 7,
   "metadata": {},
   "outputs": [
    {
     "name": "stdout",
     "output_type": "stream",
     "text": [
      "Ones Tensor: \n",
      " tensor([[1, 1],\n",
      "        [1, 1]]) \n",
      "\n",
      "Random Tensor : \n",
      " tensor([[0.9998, 0.5771],\n",
      "        [0.4775, 0.0566]]) \n",
      "\n"
     ]
    }
   ],
   "source": [
    "x_ones = torch.ones_like(x_data) # x_data의 속성을 유지합니다.\n",
    "print(f\"Ones Tensor: \\n {x_ones} \\n\")\n",
    "x_rand = torch.rand_like(x_data, dtype = torch.float) # x_data의 속성을 덮어씁니다., [0,1) 의 unifrom 분포\n",
    "print(f\"Random Tensor : \\n {x_rand} \\n\")"
   ]
  },
  {
   "cell_type": "code",
   "execution_count": 8,
   "metadata": {},
   "outputs": [
    {
     "name": "stdout",
     "output_type": "stream",
     "text": [
      "Random Tensor : \n",
      " tensor([[0.0250, 0.9693, 0.0582],\n",
      "        [0.5018, 0.3573, 0.6139]]) \n",
      "\n",
      "Ones Tensor : \n",
      " tensor([[1., 1., 1.],\n",
      "        [1., 1., 1.]]) \n",
      "\n",
      " Zeros Tensor : \n",
      " tensor([[0., 0., 0.],\n",
      "        [0., 0., 0.]]) \n",
      "\n"
     ]
    }
   ],
   "source": [
    "shape = (2, 3, )\n",
    "rand_tensor = torch.rand(shape) # Returns a tensor filled with random numbers from a uniform distribution on the interval [0, 1).\n",
    "ones_tensor = torch.ones(shape)\n",
    "zeros_tensor = torch.zeros(shape)\n",
    "\n",
    "print(f\"Random Tensor : \\n {rand_tensor} \\n\")\n",
    "print(f\"Ones Tensor : \\n {ones_tensor} \\n\")\n",
    "print(f\" Zeros Tensor : \\n {zeros_tensor} \\n\")"
   ]
  },
  {
   "cell_type": "code",
   "execution_count": 9,
   "metadata": {},
   "outputs": [
    {
     "name": "stdout",
     "output_type": "stream",
     "text": [
      "Shape of tensor : torch.Size([3, 4])\n",
      "Datatype of tensor : torch.float32\n",
      "Device tensor is stored on : cpu\n"
     ]
    }
   ],
   "source": [
    "tensor = torch.rand(3, 4)\n",
    "print(f\"Shape of tensor : {tensor.shape}\")\n",
    "print(f\"Datatype of tensor : {tensor.dtype}\")\n",
    "print(f\"Device tensor is stored on : {tensor.device}\")"
   ]
  },
  {
   "cell_type": "code",
   "execution_count": 10,
   "metadata": {},
   "outputs": [],
   "source": [
    "# GPU가 존재한다면 텐서를 이동합니다.\n",
    "if torch.cuda.is_available():\n",
    "    tensor = tensor.to(\"cuda\")"
   ]
  },
  {
   "cell_type": "code",
   "execution_count": 11,
   "metadata": {},
   "outputs": [
    {
     "data": {
      "text/plain": [
       "device(type='cpu')"
      ]
     },
     "execution_count": 11,
     "metadata": {},
     "output_type": "execute_result"
    }
   ],
   "source": [
    "tensor.device"
   ]
  },
  {
   "cell_type": "code",
   "execution_count": 17,
   "metadata": {},
   "outputs": [
    {
     "name": "stdout",
     "output_type": "stream",
     "text": [
      "tensor([[0.5219, 0.6807, 0.9139, 0.1432],\n",
      "        [0.3364, 0.8627, 0.7071, 0.9078],\n",
      "        [0.0754, 0.6041, 0.3594, 0.2153],\n",
      "        [0.1818, 0.3107, 0.6951, 0.8460]])\n",
      "First row : tensor([0.5219, 0.6807, 0.9139, 0.1432])\n",
      "First column : tensor([0.5219, 0.3364, 0.0754, 0.1818])\n",
      "Last column : tensor([0.1432, 0.9078, 0.2153, 0.8460])\n",
      "Last column : tensor([0.1432, 0.9078, 0.2153, 0.8460])\n",
      "tensor([[0.5219, 0.0000, 0.9139, 0.1432],\n",
      "        [0.3364, 0.0000, 0.7071, 0.9078],\n",
      "        [0.0754, 0.0000, 0.3594, 0.2153],\n",
      "        [0.1818, 0.0000, 0.6951, 0.8460]])\n"
     ]
    }
   ],
   "source": [
    "tensor = torch.rand(4, 4)\n",
    "print(tensor)\n",
    "print(f\"First row : {tensor[0]}\")\n",
    "print(f\"First column : {tensor[:, 0]}\")\n",
    "print(f\"Last column : {tensor[..., -1]}\")\n",
    "print(f\"Last column : {tensor[:, -1]}\")\n",
    "tensor[:, 1] = 0\n",
    "print(tensor)"
   ]
  },
  {
   "cell_type": "code",
   "execution_count": 18,
   "metadata": {},
   "outputs": [
    {
     "name": "stdout",
     "output_type": "stream",
     "text": [
      "tensor([[0.5219, 0.0000, 0.9139, 0.1432, 0.5219, 0.0000, 0.9139, 0.1432, 0.5219,\n",
      "         0.0000, 0.9139, 0.1432],\n",
      "        [0.3364, 0.0000, 0.7071, 0.9078, 0.3364, 0.0000, 0.7071, 0.9078, 0.3364,\n",
      "         0.0000, 0.7071, 0.9078],\n",
      "        [0.0754, 0.0000, 0.3594, 0.2153, 0.0754, 0.0000, 0.3594, 0.2153, 0.0754,\n",
      "         0.0000, 0.3594, 0.2153],\n",
      "        [0.1818, 0.0000, 0.6951, 0.8460, 0.1818, 0.0000, 0.6951, 0.8460, 0.1818,\n",
      "         0.0000, 0.6951, 0.8460]])\n"
     ]
    }
   ],
   "source": [
    "t1 = torch.cat([tensor, tensor, tensor], dim = 1)\n",
    "print(t1)"
   ]
  },
  {
   "cell_type": "code",
   "execution_count": 19,
   "metadata": {},
   "outputs": [
    {
     "name": "stdout",
     "output_type": "stream",
     "text": [
      "tensor([[0.5219, 0.0000, 0.9139, 0.1432],\n",
      "        [0.3364, 0.0000, 0.7071, 0.9078],\n",
      "        [0.0754, 0.0000, 0.3594, 0.2153],\n",
      "        [0.1818, 0.0000, 0.6951, 0.8460],\n",
      "        [0.5219, 0.0000, 0.9139, 0.1432],\n",
      "        [0.3364, 0.0000, 0.7071, 0.9078],\n",
      "        [0.0754, 0.0000, 0.3594, 0.2153],\n",
      "        [0.1818, 0.0000, 0.6951, 0.8460],\n",
      "        [0.5219, 0.0000, 0.9139, 0.1432],\n",
      "        [0.3364, 0.0000, 0.7071, 0.9078],\n",
      "        [0.0754, 0.0000, 0.3594, 0.2153],\n",
      "        [0.1818, 0.0000, 0.6951, 0.8460]])\n"
     ]
    }
   ],
   "source": [
    "t1 = torch.cat([tensor, tensor, tensor], dim = 0)\n",
    "print(t1)"
   ]
  },
  {
   "cell_type": "code",
   "execution_count": 20,
   "metadata": {},
   "outputs": [
    {
     "data": {
      "text/plain": [
       "tensor([[0.2723, 0.0000, 0.8352, 0.0205],\n",
       "        [0.1132, 0.0000, 0.5000, 0.8240],\n",
       "        [0.0057, 0.0000, 0.1291, 0.0464],\n",
       "        [0.0331, 0.0000, 0.4831, 0.7157]])"
      ]
     },
     "execution_count": 20,
     "metadata": {},
     "output_type": "execute_result"
    }
   ],
   "source": [
    "# 두 텐서 간의 행렬 곱(matrix multiplication)을 계산합니다. y1, y2, y3은 모두 같은 값을 같습니다.\n",
    "y1 = tensor @tensor.T\n",
    "y2 = tensor.matmul(tensor.T)\n",
    "y3 = torch.rand_like(y1)\n",
    "torch.matmul(tensor, tensor.T, out=y3)\n",
    "\n",
    "# 요소별 곱(element-wise product)를 계산합니다. z1, z2, z3는 모두 같은 값을 같습니다.\n",
    "z1 = tensor*tensor\n",
    "z2 = tensor.mul(tensor)\n",
    "z3 = torch.rand_like(tensor)\n",
    "torch.mul(tensor, tensor, out=z3)"
   ]
  },
  {
   "cell_type": "code",
   "execution_count": 21,
   "metadata": {},
   "outputs": [
    {
     "name": "stdout",
     "output_type": "stream",
     "text": [
      "5.903167247772217 <class 'float'>\n"
     ]
    }
   ],
   "source": [
    "agg = tensor.sum()\n",
    "agg_item = agg.item()\n",
    "print(agg_item, type(agg_item))"
   ]
  },
  {
   "cell_type": "code",
   "execution_count": 22,
   "metadata": {},
   "outputs": [
    {
     "name": "stdout",
     "output_type": "stream",
     "text": [
      "tensor([[0.5219, 0.0000, 0.9139, 0.1432],\n",
      "        [0.3364, 0.0000, 0.7071, 0.9078],\n",
      "        [0.0754, 0.0000, 0.3594, 0.2153],\n",
      "        [0.1818, 0.0000, 0.6951, 0.8460]])\n",
      "\n",
      "tensor([[5.5219, 5.0000, 5.9139, 5.1432],\n",
      "        [5.3364, 5.0000, 5.7071, 5.9078],\n",
      "        [5.0754, 5.0000, 5.3594, 5.2153],\n",
      "        [5.1818, 5.0000, 5.6951, 5.8460]])\n"
     ]
    }
   ],
   "source": [
    "print(f\"{tensor}\\n\")\n",
    "tensor.add_(5)\n",
    "print(tensor)"
   ]
  },
  {
   "cell_type": "code",
   "execution_count": 23,
   "metadata": {},
   "outputs": [
    {
     "name": "stdout",
     "output_type": "stream",
     "text": [
      "t : tensor([1., 1., 1., 1., 1.])\n",
      "n : [1. 1. 1. 1. 1.]\n"
     ]
    }
   ],
   "source": [
    "t = torch.ones(5)\n",
    "print(f\"t : {t}\")\n",
    "n =t.numpy()\n",
    "print(f\"n : {n}\")"
   ]
  },
  {
   "cell_type": "code",
   "execution_count": 24,
   "metadata": {},
   "outputs": [
    {
     "name": "stdout",
     "output_type": "stream",
     "text": [
      "t : tensor([2., 2., 2., 2., 2.])\n",
      "n : [2. 2. 2. 2. 2.]\n"
     ]
    }
   ],
   "source": [
    "t.add_(1)\n",
    "print(f\"t : {t}\")\n",
    "print(f\"n : {n}\")"
   ]
  },
  {
   "cell_type": "code",
   "execution_count": 25,
   "metadata": {},
   "outputs": [],
   "source": [
    "n = np.ones(5)\n",
    "t = torch.from_numpy(n)"
   ]
  },
  {
   "cell_type": "code",
   "execution_count": 26,
   "metadata": {},
   "outputs": [
    {
     "name": "stdout",
     "output_type": "stream",
     "text": [
      "n : [1. 1. 1. 1. 1.]\n",
      "t : tensor([2., 2., 2., 2., 2.], dtype=torch.float64)\n",
      "n : [2. 2. 2. 2. 2.]\n"
     ]
    }
   ],
   "source": [
    "print(f\"n : {n}\")\n",
    "np.add(n, 1, out = n)\n",
    "print(f\"t : {t}\")\n",
    "print(f\"n : {n}\")"
   ]
  },
  {
   "cell_type": "code",
   "execution_count": null,
   "metadata": {},
   "outputs": [],
   "source": []
  }
 ],
 "metadata": {
  "kernelspec": {
   "display_name": "torch",
   "language": "python",
   "name": "python3"
  },
  "language_info": {
   "codemirror_mode": {
    "name": "ipython",
    "version": 3
   },
   "file_extension": ".py",
   "mimetype": "text/x-python",
   "name": "python",
   "nbconvert_exporter": "python",
   "pygments_lexer": "ipython3",
   "version": "3.10.8 (main, Nov 24 2022, 14:13:03) [GCC 11.2.0]"
  },
  "orig_nbformat": 4,
  "vscode": {
   "interpreter": {
    "hash": "3aa9a3887289b9d0865c1eccf4a5368d51602fc3c96c35e194dff224c1d9ab35"
   }
  }
 },
 "nbformat": 4,
 "nbformat_minor": 2
}
